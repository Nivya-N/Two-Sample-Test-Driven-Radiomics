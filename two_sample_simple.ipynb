{
  "nbformat": 4,
  "nbformat_minor": 0,
  "metadata": {
    "colab": {
      "provenance": [],
      "mount_file_id": "1W3kDVvUkrmrRXL-oUu7y7HaIH4eJO0Vl",
      "authorship_tag": "ABX9TyMqS39viB8Em/I9X5F7iEHx"
    },
    "kernelspec": {
      "name": "python3",
      "display_name": "Python 3"
    },
    "language_info": {
      "name": "python"
    }
  },
  "cells": [
    {
      "cell_type": "code",
      "source": [
        "import numpy as np\n",
        "import pandas as pd\n",
        "import numpy as np\n",
        "from scipy.spatial.distance import mahalanobis\n",
        "import numpy as np\n",
        "from sklearn.linear_model import LogisticRegression\n",
        "from sklearn.model_selection import train_test_split\n",
        "from sklearn.metrics import accuracy_score\n",
        "from sklearn.utils import shuffle"
      ],
      "metadata": {
        "id": "XkllQ8Zt1Vyi"
      },
      "execution_count": null,
      "outputs": []
    },
    {
      "cell_type": "code",
      "execution_count": null,
      "metadata": {
        "id": "ybYlsbTmtrdo"
      },
      "outputs": [],
      "source": [
        "# Assuming `data` is your 425x87 matrix and `labels` is a 1D array with class labels\n",
        "class_MCI_data = pd.read_csv('/content/radiomic_features_mci_oct10.csv')#MCI data\n",
        "class_NC_data = pd.read_csv('/content/radiomic_features_nc_oct10 .csv')  #NC Data"
      ]
    },
    {
      "cell_type": "code",
      "source": [
        "# Function to extract numerical value from array-like string\n",
        "def extract_number(array_string):\n",
        "    if isinstance(array_string, str) and 'array' in array_string:\n",
        "        return float(array_string.split('(')[1].split(')')[0])\n",
        "    else:\n",
        "        return array_string\n",
        "# Apply the function to each column\n",
        "for column in class_MCI_data.columns:\n",
        "    class_MCI_data[column] = class_MCI_data[column].apply(extract_number)\n",
        "for column in class_NC_data:\n",
        "    class_NC_data[column] = class_NC_data[column].apply(extract_number)\n",
        "mean_A = np.mean(class_MCI_data, axis=0)\n",
        "mean_B = np.mean(class_NC_data, axis=0)\n",
        "cov_matrix = np.cov(np.vstack((class_MCI_data, class_NC_data)).T)\n",
        "\n",
        "# Invert the covariance matrix\n",
        "inv_cov_matrix = np.linalg.inv(cov_matrix)\n",
        "\n",
        "# Calculate Mahalanobis distance\n",
        "mahal_dist = mahalanobis(mean_A, mean_B, inv_cov_matrix)\n"
      ],
      "metadata": {
        "id": "ijoCPdti4sE5"
      },
      "execution_count": null,
      "outputs": []
    },
    {
      "cell_type": "code",
      "source": [
        "data1 = pd.read_csv('/content/drive/MyDrive/radiomic_features_nc&mci_oct10 .csv')#MCI data\n",
        "\n",
        "\n",
        "print(\"Shape of X:\", data1.shape)\n",
        "\n",
        "\n",
        "# Function to extract numerical value from array-like string\n",
        "def extract_number(array_string):\n",
        "    if isinstance(array_string, str) and 'array' in array_string:\n",
        "        return float(array_string.split('(')[1].split(')')[0])\n",
        "    else:\n",
        "        return array_string\n",
        "\n",
        "# Apply the function to each column\n",
        "#for column in data.columns:\n",
        "    #data[column] = data[column].apply(extract_number)\n",
        "\n",
        "# Apply the function to each column\n",
        "for column in data1.columns:\n",
        "    data1[column] = data1[column].apply(extract_number)\n",
        "#for column in data2.columns:\n",
        " #   data2[column] = data2[column].apply(extract_number)\n",
        "\n",
        "\n",
        "# Split into features and labels\n",
        "X = data1.iloc[:, :-1]  # All rows, all columns except the last\n",
        "Y = data1.iloc[:, -1]   # All rows, last column"
      ],
      "metadata": {
        "colab": {
          "base_uri": "https://localhost:8080/"
        },
        "id": "ua4WwiD45Uwo",
        "outputId": "bb51bed8-8fc9-4bf2-fce4-973dd1d04eeb"
      },
      "execution_count": null,
      "outputs": [
        {
          "output_type": "stream",
          "name": "stdout",
          "text": [
            "Shape of X: (425, 88)\n"
          ]
        }
      ]
    },
    {
      "cell_type": "code",
      "source": [
        "# Assuming your dataset has already been loaded\n",
        "# X: feature matrix (425, 87), y: binary labels (425,)\n",
        "# Replace `X` and `y` with your actual data\n",
        "# Example: X = data[:, :-1], y = data[:, -1]\n",
        "\n",
        "# 1. Split data into training and testing sets\n",
        "X_train, X_test, y_train, y_test = train_test_split(X, Y, test_size=0.2, random_state=42)\n",
        "\n",
        "\n",
        "from sklearn.preprocessing import StandardScaler\n",
        "\n",
        "scaler = StandardScaler()\n",
        "X_train = scaler.fit_transform(X_train)\n",
        "X_test = scaler.transform(X_test)\n",
        "\n",
        "# 2. Train the classifier on original labels\n",
        "clf = LogisticRegression()\n",
        "clf.fit(X_train, y_train)\n",
        "\n",
        "# 3. Measure accuracy on the test set\n",
        "original_accuracy = accuracy_score(y_test, clf.predict(X_test))\n",
        "print(f\"Original classifier accuracy: {original_accuracy:.4f}\")\n",
        "\n",
        "# 4. Permutation test\n",
        "n_permutations = 1000  # Number of permutations\n",
        "permutation_accuracies = []\n",
        "\n",
        "for _ in range(n_permutations):\n",
        "    # Shuffle labels\n",
        "    y_train_shuffled = shuffle(y_train, random_state=42)\n",
        "\n",
        "    # Train the classifier on shuffled labels\n",
        "    clf.fit(X_train, y_train_shuffled)\n",
        "\n",
        "    # Measure accuracy on test set with shuffled labels\n",
        "    permuted_accuracy = accuracy_score(y_test, clf.predict(X_test))\n",
        "    permutation_accuracies.append(permuted_accuracy)\n",
        "\n",
        "# 5. Calculate p-value\n",
        "permutation_accuracies = np.array(permutation_accuracies)\n",
        "p_value = np.mean(permutation_accuracies >= original_accuracy)\n",
        "\n",
        "print(f\"P-value from permutation test: {p_value:.4f}\")\n",
        "\n",
        "# 6. Interpretation\n",
        "if p_value < 0.05:\n",
        "    print(\"The classifier's performance is significantly better than random chance.\")\n",
        "    print(\"This suggests that the two samples come from different distributions.\")\n",
        "else:\n",
        "    print(\"The classifier's performance is not significantly better than random chance.\")\n",
        "    print(\"This suggests that we cannot reject the hypothesis that the two samples are similar.\")"
      ],
      "metadata": {
        "colab": {
          "base_uri": "https://localhost:8080/"
        },
        "id": "kbHyREW-5BNg",
        "outputId": "b6e1a31a-e7ab-4ba9-b91b-13df6b2cab63"
      },
      "execution_count": null,
      "outputs": [
        {
          "output_type": "stream",
          "name": "stdout",
          "text": [
            "Original classifier accuracy: 0.7647\n",
            "P-value from permutation test: 0.0000\n",
            "The classifier's performance is significantly better than random chance.\n",
            "This suggests that the two samples come from different distributions.\n"
          ]
        }
      ]
    },
    {
      "cell_type": "code",
      "source": [
        "import matplotlib.pyplot as plt\n",
        "# Plotting the histogram of permuted accuracies\n",
        "plt.figure(figsize=(10, 6))\n",
        "plt.hist(permutation_accuracies, bins=30, color='skyblue', edgecolor='black', alpha=0.7)\n",
        "plt.axvline(original_accuracy, color='red', linestyle='--', linewidth=2, label=f'Original Accuracy = {original_accuracy:.4f}')\n",
        "\n",
        "# Add labels and title\n",
        "plt.xlabel('Accuracy')\n",
        "plt.ylabel('Frequency')\n",
        "plt.title('Permutation Test for Classifier Accuracy')\n",
        "plt.legend()\n",
        "plt.show()"
      ],
      "metadata": {
        "colab": {
          "base_uri": "https://localhost:8080/",
          "height": 564
        },
        "id": "n8GyG2fU8vW5",
        "outputId": "64167ce1-1e39-4284-effb-7b9b6900c83d"
      },
      "execution_count": null,
      "outputs": [
        {
          "output_type": "display_data",
          "data": {
            "text/plain": [
              "<Figure size 1000x600 with 1 Axes>"
            ],
            "image/png": "[encoded data removed]"
          },
          "metadata": {}
        }
      ]
    }
  ]
}